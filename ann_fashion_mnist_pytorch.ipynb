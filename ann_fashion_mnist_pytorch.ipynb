{
  "nbformat": 4,
  "nbformat_minor": 0,
  "metadata": {
    "colab": {
      "provenance": [],
      "mount_file_id": "17WrjZNbCAXF7gd2SXcXjUbSGp53gHjyk",
      "authorship_tag": "ABX9TyMwc8F19ukfUHtLJxY+wjx1",
      "include_colab_link": true
    },
    "kernelspec": {
      "name": "python3",
      "display_name": "Python 3"
    },
    "language_info": {
      "name": "python"
    }
  },
  "cells": [
    {
      "cell_type": "markdown",
      "metadata": {
        "id": "view-in-github",
        "colab_type": "text"
      },
      "source": [
        "<a href=\"https://colab.research.google.com/github/sarithamiryala/DeepLearning/blob/main/ann_fashion_mnist_pytorch.ipynb\" target=\"_parent\"><img src=\"https://colab.research.google.com/assets/colab-badge.svg\" alt=\"Open In Colab\"/></a>"
      ]
    },
    {
      "cell_type": "code",
      "execution_count": 1,
      "metadata": {
        "id": "RsFsYtLqEoiW"
      },
      "outputs": [],
      "source": [
        "import pandas as pd\n",
        "import torch\n",
        "from sklearn.model_selection import train_test_split\n",
        "import torch.nn as nn\n",
        "import torch.optim as optim\n",
        "import matplotlib.pyplot as plt\n",
        "from torch.utils.data import DataLoader, Dataset\n",
        "\n"
      ]
    },
    {
      "cell_type": "code",
      "source": [
        "# Set random seeds for reproducibility\n",
        "torch.manual_seed(42)"
      ],
      "metadata": {
        "colab": {
          "base_uri": "https://localhost:8080/"
        },
        "id": "_agIqT0GFhRj",
        "outputId": "12f97337-7906-4154-f250-249c8b796451"
      },
      "execution_count": 2,
      "outputs": [
        {
          "output_type": "execute_result",
          "data": {
            "text/plain": [
              "<torch._C.Generator at 0x7f70c0002e50>"
            ]
          },
          "metadata": {},
          "execution_count": 2
        }
      ]
    },
    {
      "cell_type": "code",
      "source": [
        "df = pd.read_csv(\"/content/drive/MyDrive/DeepLearning/CampusX/pytorch/fashion-mnist_test.csv\")"
      ],
      "metadata": {
        "id": "e62pvIChFv5n"
      },
      "execution_count": 3,
      "outputs": []
    },
    {
      "cell_type": "code",
      "source": [
        "df.shape"
      ],
      "metadata": {
        "colab": {
          "base_uri": "https://localhost:8080/"
        },
        "id": "DHzhNMFnF9yd",
        "outputId": "c98b808e-e537-4d28-a572-14f3df9a2f79"
      },
      "execution_count": 4,
      "outputs": [
        {
          "output_type": "execute_result",
          "data": {
            "text/plain": [
              "(10000, 785)"
            ]
          },
          "metadata": {},
          "execution_count": 4
        }
      ]
    },
    {
      "cell_type": "code",
      "source": [
        "df = df[0:6000]"
      ],
      "metadata": {
        "id": "eKnnB_u-F--h"
      },
      "execution_count": 5,
      "outputs": []
    },
    {
      "cell_type": "code",
      "source": [
        "df.shape\n"
      ],
      "metadata": {
        "colab": {
          "base_uri": "https://localhost:8080/"
        },
        "id": "CUTM6juiGEKa",
        "outputId": "09d577f0-c008-445d-e3e7-5aa636604a59"
      },
      "execution_count": 6,
      "outputs": [
        {
          "output_type": "execute_result",
          "data": {
            "text/plain": [
              "(6000, 785)"
            ]
          },
          "metadata": {},
          "execution_count": 6
        }
      ]
    },
    {
      "cell_type": "code",
      "source": [
        "df.head()"
      ],
      "metadata": {
        "colab": {
          "base_uri": "https://localhost:8080/",
          "height": 255
        },
        "id": "eEZYzC-GGGAZ",
        "outputId": "06eee51c-a7c9-4ad8-acfb-a691ea2daac4"
      },
      "execution_count": 7,
      "outputs": [
        {
          "output_type": "execute_result",
          "data": {
            "text/plain": [
              "   label  pixel1  pixel2  pixel3  pixel4  pixel5  pixel6  pixel7  pixel8  \\\n",
              "0      0       0       0       0       0       0       0       0       9   \n",
              "1      1       0       0       0       0       0       0       0       0   \n",
              "2      2       0       0       0       0       0       0      14      53   \n",
              "3      2       0       0       0       0       0       0       0       0   \n",
              "4      3       0       0       0       0       0       0       0       0   \n",
              "\n",
              "   pixel9  ...  pixel775  pixel776  pixel777  pixel778  pixel779  pixel780  \\\n",
              "0       8  ...       103        87        56         0         0         0   \n",
              "1       0  ...        34         0         0         0         0         0   \n",
              "2      99  ...         0         0         0         0        63        53   \n",
              "3       0  ...       137       126       140         0       133       224   \n",
              "4       0  ...         0         0         0         0         0         0   \n",
              "\n",
              "   pixel781  pixel782  pixel783  pixel784  \n",
              "0         0         0         0         0  \n",
              "1         0         0         0         0  \n",
              "2        31         0         0         0  \n",
              "3       222        56         0         0  \n",
              "4         0         0         0         0  \n",
              "\n",
              "[5 rows x 785 columns]"
            ],
            "text/html": [
              "\n",
              "  <div id=\"df-19628d16-4bc3-4f3a-b1ee-66486c9b4534\" class=\"colab-df-container\">\n",
              "    <div>\n",
              "<style scoped>\n",
              "    .dataframe tbody tr th:only-of-type {\n",
              "        vertical-align: middle;\n",
              "    }\n",
              "\n",
              "    .dataframe tbody tr th {\n",
              "        vertical-align: top;\n",
              "    }\n",
              "\n",
              "    .dataframe thead th {\n",
              "        text-align: right;\n",
              "    }\n",
              "</style>\n",
              "<table border=\"1\" class=\"dataframe\">\n",
              "  <thead>\n",
              "    <tr style=\"text-align: right;\">\n",
              "      <th></th>\n",
              "      <th>label</th>\n",
              "      <th>pixel1</th>\n",
              "      <th>pixel2</th>\n",
              "      <th>pixel3</th>\n",
              "      <th>pixel4</th>\n",
              "      <th>pixel5</th>\n",
              "      <th>pixel6</th>\n",
              "      <th>pixel7</th>\n",
              "      <th>pixel8</th>\n",
              "      <th>pixel9</th>\n",
              "      <th>...</th>\n",
              "      <th>pixel775</th>\n",
              "      <th>pixel776</th>\n",
              "      <th>pixel777</th>\n",
              "      <th>pixel778</th>\n",
              "      <th>pixel779</th>\n",
              "      <th>pixel780</th>\n",
              "      <th>pixel781</th>\n",
              "      <th>pixel782</th>\n",
              "      <th>pixel783</th>\n",
              "      <th>pixel784</th>\n",
              "    </tr>\n",
              "  </thead>\n",
              "  <tbody>\n",
              "    <tr>\n",
              "      <th>0</th>\n",
              "      <td>0</td>\n",
              "      <td>0</td>\n",
              "      <td>0</td>\n",
              "      <td>0</td>\n",
              "      <td>0</td>\n",
              "      <td>0</td>\n",
              "      <td>0</td>\n",
              "      <td>0</td>\n",
              "      <td>9</td>\n",
              "      <td>8</td>\n",
              "      <td>...</td>\n",
              "      <td>103</td>\n",
              "      <td>87</td>\n",
              "      <td>56</td>\n",
              "      <td>0</td>\n",
              "      <td>0</td>\n",
              "      <td>0</td>\n",
              "      <td>0</td>\n",
              "      <td>0</td>\n",
              "      <td>0</td>\n",
              "      <td>0</td>\n",
              "    </tr>\n",
              "    <tr>\n",
              "      <th>1</th>\n",
              "      <td>1</td>\n",
              "      <td>0</td>\n",
              "      <td>0</td>\n",
              "      <td>0</td>\n",
              "      <td>0</td>\n",
              "      <td>0</td>\n",
              "      <td>0</td>\n",
              "      <td>0</td>\n",
              "      <td>0</td>\n",
              "      <td>0</td>\n",
              "      <td>...</td>\n",
              "      <td>34</td>\n",
              "      <td>0</td>\n",
              "      <td>0</td>\n",
              "      <td>0</td>\n",
              "      <td>0</td>\n",
              "      <td>0</td>\n",
              "      <td>0</td>\n",
              "      <td>0</td>\n",
              "      <td>0</td>\n",
              "      <td>0</td>\n",
              "    </tr>\n",
              "    <tr>\n",
              "      <th>2</th>\n",
              "      <td>2</td>\n",
              "      <td>0</td>\n",
              "      <td>0</td>\n",
              "      <td>0</td>\n",
              "      <td>0</td>\n",
              "      <td>0</td>\n",
              "      <td>0</td>\n",
              "      <td>14</td>\n",
              "      <td>53</td>\n",
              "      <td>99</td>\n",
              "      <td>...</td>\n",
              "      <td>0</td>\n",
              "      <td>0</td>\n",
              "      <td>0</td>\n",
              "      <td>0</td>\n",
              "      <td>63</td>\n",
              "      <td>53</td>\n",
              "      <td>31</td>\n",
              "      <td>0</td>\n",
              "      <td>0</td>\n",
              "      <td>0</td>\n",
              "    </tr>\n",
              "    <tr>\n",
              "      <th>3</th>\n",
              "      <td>2</td>\n",
              "      <td>0</td>\n",
              "      <td>0</td>\n",
              "      <td>0</td>\n",
              "      <td>0</td>\n",
              "      <td>0</td>\n",
              "      <td>0</td>\n",
              "      <td>0</td>\n",
              "      <td>0</td>\n",
              "      <td>0</td>\n",
              "      <td>...</td>\n",
              "      <td>137</td>\n",
              "      <td>126</td>\n",
              "      <td>140</td>\n",
              "      <td>0</td>\n",
              "      <td>133</td>\n",
              "      <td>224</td>\n",
              "      <td>222</td>\n",
              "      <td>56</td>\n",
              "      <td>0</td>\n",
              "      <td>0</td>\n",
              "    </tr>\n",
              "    <tr>\n",
              "      <th>4</th>\n",
              "      <td>3</td>\n",
              "      <td>0</td>\n",
              "      <td>0</td>\n",
              "      <td>0</td>\n",
              "      <td>0</td>\n",
              "      <td>0</td>\n",
              "      <td>0</td>\n",
              "      <td>0</td>\n",
              "      <td>0</td>\n",
              "      <td>0</td>\n",
              "      <td>...</td>\n",
              "      <td>0</td>\n",
              "      <td>0</td>\n",
              "      <td>0</td>\n",
              "      <td>0</td>\n",
              "      <td>0</td>\n",
              "      <td>0</td>\n",
              "      <td>0</td>\n",
              "      <td>0</td>\n",
              "      <td>0</td>\n",
              "      <td>0</td>\n",
              "    </tr>\n",
              "  </tbody>\n",
              "</table>\n",
              "<p>5 rows × 785 columns</p>\n",
              "</div>\n",
              "    <div class=\"colab-df-buttons\">\n",
              "\n",
              "  <div class=\"colab-df-container\">\n",
              "    <button class=\"colab-df-convert\" onclick=\"convertToInteractive('df-19628d16-4bc3-4f3a-b1ee-66486c9b4534')\"\n",
              "            title=\"Convert this dataframe to an interactive table.\"\n",
              "            style=\"display:none;\">\n",
              "\n",
              "  <svg xmlns=\"http://www.w3.org/2000/svg\" height=\"24px\" viewBox=\"0 -960 960 960\">\n",
              "    <path d=\"M120-120v-720h720v720H120Zm60-500h600v-160H180v160Zm220 220h160v-160H400v160Zm0 220h160v-160H400v160ZM180-400h160v-160H180v160Zm440 0h160v-160H620v160ZM180-180h160v-160H180v160Zm440 0h160v-160H620v160Z\"/>\n",
              "  </svg>\n",
              "    </button>\n",
              "\n",
              "  <style>\n",
              "    .colab-df-container {\n",
              "      display:flex;\n",
              "      gap: 12px;\n",
              "    }\n",
              "\n",
              "    .colab-df-convert {\n",
              "      background-color: #E8F0FE;\n",
              "      border: none;\n",
              "      border-radius: 50%;\n",
              "      cursor: pointer;\n",
              "      display: none;\n",
              "      fill: #1967D2;\n",
              "      height: 32px;\n",
              "      padding: 0 0 0 0;\n",
              "      width: 32px;\n",
              "    }\n",
              "\n",
              "    .colab-df-convert:hover {\n",
              "      background-color: #E2EBFA;\n",
              "      box-shadow: 0px 1px 2px rgba(60, 64, 67, 0.3), 0px 1px 3px 1px rgba(60, 64, 67, 0.15);\n",
              "      fill: #174EA6;\n",
              "    }\n",
              "\n",
              "    .colab-df-buttons div {\n",
              "      margin-bottom: 4px;\n",
              "    }\n",
              "\n",
              "    [theme=dark] .colab-df-convert {\n",
              "      background-color: #3B4455;\n",
              "      fill: #D2E3FC;\n",
              "    }\n",
              "\n",
              "    [theme=dark] .colab-df-convert:hover {\n",
              "      background-color: #434B5C;\n",
              "      box-shadow: 0px 1px 3px 1px rgba(0, 0, 0, 0.15);\n",
              "      filter: drop-shadow(0px 1px 2px rgba(0, 0, 0, 0.3));\n",
              "      fill: #FFFFFF;\n",
              "    }\n",
              "  </style>\n",
              "\n",
              "    <script>\n",
              "      const buttonEl =\n",
              "        document.querySelector('#df-19628d16-4bc3-4f3a-b1ee-66486c9b4534 button.colab-df-convert');\n",
              "      buttonEl.style.display =\n",
              "        google.colab.kernel.accessAllowed ? 'block' : 'none';\n",
              "\n",
              "      async function convertToInteractive(key) {\n",
              "        const element = document.querySelector('#df-19628d16-4bc3-4f3a-b1ee-66486c9b4534');\n",
              "        const dataTable =\n",
              "          await google.colab.kernel.invokeFunction('convertToInteractive',\n",
              "                                                    [key], {});\n",
              "        if (!dataTable) return;\n",
              "\n",
              "        const docLinkHtml = 'Like what you see? Visit the ' +\n",
              "          '<a target=\"_blank\" href=https://colab.research.google.com/notebooks/data_table.ipynb>data table notebook</a>'\n",
              "          + ' to learn more about interactive tables.';\n",
              "        element.innerHTML = '';\n",
              "        dataTable['output_type'] = 'display_data';\n",
              "        await google.colab.output.renderOutput(dataTable, element);\n",
              "        const docLink = document.createElement('div');\n",
              "        docLink.innerHTML = docLinkHtml;\n",
              "        element.appendChild(docLink);\n",
              "      }\n",
              "    </script>\n",
              "  </div>\n",
              "\n",
              "\n",
              "<div id=\"df-472da355-b942-4c58-a484-644e28df3f7d\">\n",
              "  <button class=\"colab-df-quickchart\" onclick=\"quickchart('df-472da355-b942-4c58-a484-644e28df3f7d')\"\n",
              "            title=\"Suggest charts\"\n",
              "            style=\"display:none;\">\n",
              "\n",
              "<svg xmlns=\"http://www.w3.org/2000/svg\" height=\"24px\"viewBox=\"0 0 24 24\"\n",
              "     width=\"24px\">\n",
              "    <g>\n",
              "        <path d=\"M19 3H5c-1.1 0-2 .9-2 2v14c0 1.1.9 2 2 2h14c1.1 0 2-.9 2-2V5c0-1.1-.9-2-2-2zM9 17H7v-7h2v7zm4 0h-2V7h2v10zm4 0h-2v-4h2v4z\"/>\n",
              "    </g>\n",
              "</svg>\n",
              "  </button>\n",
              "\n",
              "<style>\n",
              "  .colab-df-quickchart {\n",
              "      --bg-color: #E8F0FE;\n",
              "      --fill-color: #1967D2;\n",
              "      --hover-bg-color: #E2EBFA;\n",
              "      --hover-fill-color: #174EA6;\n",
              "      --disabled-fill-color: #AAA;\n",
              "      --disabled-bg-color: #DDD;\n",
              "  }\n",
              "\n",
              "  [theme=dark] .colab-df-quickchart {\n",
              "      --bg-color: #3B4455;\n",
              "      --fill-color: #D2E3FC;\n",
              "      --hover-bg-color: #434B5C;\n",
              "      --hover-fill-color: #FFFFFF;\n",
              "      --disabled-bg-color: #3B4455;\n",
              "      --disabled-fill-color: #666;\n",
              "  }\n",
              "\n",
              "  .colab-df-quickchart {\n",
              "    background-color: var(--bg-color);\n",
              "    border: none;\n",
              "    border-radius: 50%;\n",
              "    cursor: pointer;\n",
              "    display: none;\n",
              "    fill: var(--fill-color);\n",
              "    height: 32px;\n",
              "    padding: 0;\n",
              "    width: 32px;\n",
              "  }\n",
              "\n",
              "  .colab-df-quickchart:hover {\n",
              "    background-color: var(--hover-bg-color);\n",
              "    box-shadow: 0 1px 2px rgba(60, 64, 67, 0.3), 0 1px 3px 1px rgba(60, 64, 67, 0.15);\n",
              "    fill: var(--button-hover-fill-color);\n",
              "  }\n",
              "\n",
              "  .colab-df-quickchart-complete:disabled,\n",
              "  .colab-df-quickchart-complete:disabled:hover {\n",
              "    background-color: var(--disabled-bg-color);\n",
              "    fill: var(--disabled-fill-color);\n",
              "    box-shadow: none;\n",
              "  }\n",
              "\n",
              "  .colab-df-spinner {\n",
              "    border: 2px solid var(--fill-color);\n",
              "    border-color: transparent;\n",
              "    border-bottom-color: var(--fill-color);\n",
              "    animation:\n",
              "      spin 1s steps(1) infinite;\n",
              "  }\n",
              "\n",
              "  @keyframes spin {\n",
              "    0% {\n",
              "      border-color: transparent;\n",
              "      border-bottom-color: var(--fill-color);\n",
              "      border-left-color: var(--fill-color);\n",
              "    }\n",
              "    20% {\n",
              "      border-color: transparent;\n",
              "      border-left-color: var(--fill-color);\n",
              "      border-top-color: var(--fill-color);\n",
              "    }\n",
              "    30% {\n",
              "      border-color: transparent;\n",
              "      border-left-color: var(--fill-color);\n",
              "      border-top-color: var(--fill-color);\n",
              "      border-right-color: var(--fill-color);\n",
              "    }\n",
              "    40% {\n",
              "      border-color: transparent;\n",
              "      border-right-color: var(--fill-color);\n",
              "      border-top-color: var(--fill-color);\n",
              "    }\n",
              "    60% {\n",
              "      border-color: transparent;\n",
              "      border-right-color: var(--fill-color);\n",
              "    }\n",
              "    80% {\n",
              "      border-color: transparent;\n",
              "      border-right-color: var(--fill-color);\n",
              "      border-bottom-color: var(--fill-color);\n",
              "    }\n",
              "    90% {\n",
              "      border-color: transparent;\n",
              "      border-bottom-color: var(--fill-color);\n",
              "    }\n",
              "  }\n",
              "</style>\n",
              "\n",
              "  <script>\n",
              "    async function quickchart(key) {\n",
              "      const quickchartButtonEl =\n",
              "        document.querySelector('#' + key + ' button');\n",
              "      quickchartButtonEl.disabled = true;  // To prevent multiple clicks.\n",
              "      quickchartButtonEl.classList.add('colab-df-spinner');\n",
              "      try {\n",
              "        const charts = await google.colab.kernel.invokeFunction(\n",
              "            'suggestCharts', [key], {});\n",
              "      } catch (error) {\n",
              "        console.error('Error during call to suggestCharts:', error);\n",
              "      }\n",
              "      quickchartButtonEl.classList.remove('colab-df-spinner');\n",
              "      quickchartButtonEl.classList.add('colab-df-quickchart-complete');\n",
              "    }\n",
              "    (() => {\n",
              "      let quickchartButtonEl =\n",
              "        document.querySelector('#df-472da355-b942-4c58-a484-644e28df3f7d button');\n",
              "      quickchartButtonEl.style.display =\n",
              "        google.colab.kernel.accessAllowed ? 'block' : 'none';\n",
              "    })();\n",
              "  </script>\n",
              "</div>\n",
              "\n",
              "    </div>\n",
              "  </div>\n"
            ],
            "application/vnd.google.colaboratory.intrinsic+json": {
              "type": "dataframe",
              "variable_name": "df"
            }
          },
          "metadata": {},
          "execution_count": 7
        }
      ]
    },
    {
      "cell_type": "code",
      "source": [
        "#create a 4x4 grid of images\n",
        "fig,axes =plt.subplots(4,4,figsize=(10,10))\n",
        "fig.suptitle(\"First 16 images\", fontsize=16)\n",
        "\n",
        "#plot the first 16 images from the dataset\n",
        "for i, ax in enumerate(axes.flat):\n",
        "  ax.imshow(df.iloc[i,1:].values.reshape(28,28),cmap=\"gray\")\n",
        "  ax.set_title(df.iloc[i,0])\n",
        "  ax.axis(\"off\")\n",
        "  ax.set_title(f\"Label: {df.iloc[i,0]}\")\n",
        "plt.tight_layout(rect=[0,0,1,0.96])\n",
        "plt.show()\n"
      ],
      "metadata": {
        "colab": {
          "base_uri": "https://localhost:8080/",
          "height": 1000
        },
        "id": "mprhf3SBHyuT",
        "outputId": "96c553d8-2533-48b3-adc0-37583c3306fe"
      },
      "execution_count": 8,
      "outputs": [
        {
          "output_type": "display_data",
          "data": {
            "text/plain": [
              "<Figure size 1000x1000 with 16 Axes>"
            ],
            "image/png": "[encoded data removed]"
          },
          "metadata": {}
        }
      ]
    },
    {
      "cell_type": "code",
      "source": [
        "#train test split\n",
        "X = df.iloc[:,1:].values\n",
        "y = df.iloc[:,0].values"
      ],
      "metadata": {
        "id": "iaPgCHlTILpq"
      },
      "execution_count": 9,
      "outputs": []
    },
    {
      "cell_type": "code",
      "source": [
        "X_train , X_test, y_train, y_test = train_test_split(X,y,test_size=0.2,random_state=42)"
      ],
      "metadata": {
        "id": "Br0mkfw8Kn2J"
      },
      "execution_count": 10,
      "outputs": []
    },
    {
      "cell_type": "code",
      "source": [
        "X_train = X_train/255.0\n",
        "X_test = X_test/255.0"
      ],
      "metadata": {
        "id": "Yf7cRnNTLEd5"
      },
      "execution_count": 11,
      "outputs": []
    },
    {
      "cell_type": "code",
      "source": [
        "# create CustomDataset Class\n",
        "class CustomDataset(Dataset):\n",
        "\n",
        "  def __init__(self,features,labels):\n",
        "\n",
        "    self.features = torch.tensor(features,dtype=torch.float32)\n",
        "    self.labels = torch.tensor(labels,dtype=torch.long)\n",
        "\n",
        "  def __len__(self):\n",
        "\n",
        "    return len(self.features)\n",
        "\n",
        "  def __getitem__(self,index):\n",
        "\n",
        "    return self.features[index],self.labels[index]\n",
        "\n",
        ""
      ],
      "metadata": {
        "id": "c7XHX1NmLQUB"
      },
      "execution_count": 12,
      "outputs": []
    },
    {
      "cell_type": "code",
      "source": [
        "#create train dataset object\n",
        "train_dataset = CustomDataset(X_train,y_train)"
      ],
      "metadata": {
        "id": "XQ7DP4LoWN7j"
      },
      "execution_count": 13,
      "outputs": []
    },
    {
      "cell_type": "code",
      "source": [
        "train_dataset[0]"
      ],
      "metadata": {
        "colab": {
          "base_uri": "https://localhost:8080/"
        },
        "id": "X9ti3O4-WXWZ",
        "outputId": "87b1f8a3-2c71-4e5a-d549-e0d2bce3dd8d"
      },
      "execution_count": 15,
      "outputs": [
        {
          "output_type": "execute_result",
          "data": {
            "text/plain": [
              "(tensor([0.0000, 0.0000, 0.0000, 0.0000, 0.0000, 0.0000, 0.0000, 0.0000, 0.0000,\n",
              "         0.0000, 0.0000, 0.0000, 0.0000, 0.0000, 0.0000, 0.0000, 0.0000, 0.0000,\n",
              "         0.0000, 0.0000, 0.0000, 0.0000, 0.0000, 0.0000, 0.0000, 0.0000, 0.0000,\n",
              "         0.0000, 0.0000, 0.0000, 0.0000, 0.0000, 0.0000, 0.0000, 0.0000, 0.0000,\n",
              "         0.0000, 0.0000, 0.0000, 0.0000, 0.0000, 0.0000, 0.0000, 0.0000, 0.0000,\n",
              "         0.0000, 0.0000, 0.0000, 0.0000, 0.0000, 0.0000, 0.0000, 0.0000, 0.0000,\n",
              "         0.0000, 0.0000, 0.0000, 0.0000, 0.0000, 0.0000, 0.0000, 0.0000, 0.0000,\n",
              "         0.0000, 0.0000, 0.0000, 0.0000, 0.0000, 0.0000, 0.0000, 0.0000, 0.0000,\n",
              "         0.0000, 0.0000, 0.0000, 0.0000, 0.0000, 0.0000, 0.0000, 0.0000, 0.0000,\n",
              "         0.0000, 0.0000, 0.0000, 0.0000, 0.0000, 0.0000, 0.0000, 0.0000, 0.0000,\n",
              "         0.0000, 0.0000, 0.0000, 0.0000, 0.0000, 0.0000, 0.0000, 0.0000, 0.0000,\n",
              "         0.0000, 0.0000, 0.0000, 0.0000, 0.0000, 0.0000, 0.0000, 0.0000, 0.0000,\n",
              "         0.0000, 0.0000, 0.0000, 0.0000, 0.0000, 0.0000, 0.0000, 0.0000, 0.0000,\n",
              "         0.0000, 0.0000, 0.0000, 0.0000, 0.0000, 0.0000, 0.0000, 0.0000, 0.0000,\n",
              "         0.0000, 0.0000, 0.0000, 0.0000, 0.0000, 0.0000, 0.0000, 0.0000, 0.0000,\n",
              "         0.0000, 0.0000, 0.0000, 0.0000, 0.0000, 0.0000, 0.0000, 0.0000, 0.0000,\n",
              "         0.0000, 0.0000, 0.0000, 0.0000, 0.0000, 0.0000, 0.0078, 0.0000, 0.0000,\n",
              "         0.2431, 0.3922, 0.3529, 0.1804, 0.0000, 0.0000, 0.0000, 0.0000, 0.0000,\n",
              "         0.0000, 0.0039, 0.0000, 0.0078, 0.0000, 0.0000, 0.0000, 0.0000, 0.0000,\n",
              "         0.0000, 0.0000, 0.0000, 0.0000, 0.0000, 0.0000, 0.0000, 0.0000, 0.1686,\n",
              "         0.8118, 0.7804, 0.5333, 0.5451, 0.8275, 0.8118, 0.0863, 0.0000, 0.0000,\n",
              "         0.0000, 0.0000, 0.0000, 0.0000, 0.0000, 0.0039, 0.0000, 0.0000, 0.0000,\n",
              "         0.0039, 0.0000, 0.0000, 0.0000, 0.0000, 0.0000, 0.0000, 0.0000, 0.0000,\n",
              "         0.5686, 0.3176, 0.0000, 0.0000, 0.0000, 0.0000, 0.3529, 0.5608, 0.0000,\n",
              "         0.0000, 0.0000, 0.0000, 0.0000, 0.0000, 0.0000, 0.0000, 0.0000, 0.0000,\n",
              "         0.0078, 0.0000, 0.0000, 0.5608, 0.5686, 0.5255, 0.5176, 0.4941, 0.4784,\n",
              "         0.6353, 0.4549, 0.3294, 0.5373, 0.5137, 0.5529, 0.4863, 0.2588, 0.4980,\n",
              "         0.5451, 0.4706, 0.4667, 0.4667, 0.4941, 0.5843, 0.3412, 0.0000, 0.0000,\n",
              "         0.0039, 0.0039, 0.0000, 0.0000, 0.7176, 0.6980, 0.6235, 0.6157, 0.5725,\n",
              "         0.5882, 0.5294, 0.5647, 0.5882, 0.5765, 0.5843, 0.5529, 0.5843, 0.5882,\n",
              "         0.5137, 0.5255, 0.5569, 0.6000, 0.5922, 0.5569, 0.6784, 0.5294, 0.0000,\n",
              "         0.0118, 0.0118, 0.0157, 0.0000, 0.0000, 0.5333, 0.4745, 0.4353, 0.4627,\n",
              "         0.4275, 0.4471, 0.4588, 0.4588, 0.4667, 0.4549, 0.4549, 0.4392, 0.4353,\n",
              "         0.4549, 0.4627, 0.4471, 0.4431, 0.4314, 0.4471, 0.4039, 0.4902, 0.4588,\n",
              "         0.0000, 0.0000, 0.0000, 0.0000, 0.0000, 0.0000, 0.5569, 0.4745, 0.4706,\n",
              "         0.4706, 0.4588, 0.4627, 0.4627, 0.4627, 0.4824, 0.4431, 0.4549, 0.4667,\n",
              "         0.4784, 0.4745, 0.4824, 0.4824, 0.4627, 0.4471, 0.4392, 0.4431, 0.4706,\n",
              "         0.5333, 0.1647, 0.0000, 0.0000, 0.0000, 0.0000, 0.5961, 0.5176, 0.4392,\n",
              "         0.4588, 0.4471, 0.4549, 0.4510, 0.4549, 0.4627, 0.4784, 0.4706, 0.4549,\n",
              "         0.4980, 0.4706, 0.4471, 0.4667, 0.4588, 0.4549, 0.4510, 0.4510, 0.4471,\n",
              "         0.3961, 0.4863, 0.4431, 0.0000, 0.0039, 0.0000, 0.1255, 1.0000, 0.4157,\n",
              "         0.4706, 0.4353, 0.4353, 0.4510, 0.4431, 0.4510, 0.4588, 0.4784, 0.5294,\n",
              "         0.6118, 0.5804, 0.5216, 0.4706, 0.4471, 0.4549, 0.4510, 0.4510, 0.4588,\n",
              "         0.4627, 0.4471, 0.4471, 0.6863, 0.0078, 0.0078, 0.0000, 0.1608, 0.9843,\n",
              "         0.2627, 0.5098, 0.4627, 0.4902, 0.4980, 0.4784, 0.4863, 0.4745, 0.6196,\n",
              "         0.1647, 0.0000, 0.0000, 0.3373, 0.5882, 0.4863, 0.4863, 0.4784, 0.4784,\n",
              "         0.4863, 0.4784, 0.5020, 0.1608, 0.5451, 0.2157, 0.0039, 0.0000, 0.2275,\n",
              "         0.9059, 0.2039, 0.5059, 0.4510, 0.4471, 0.4471, 0.4549, 0.4471, 0.4392,\n",
              "         0.5686, 0.2353, 0.0392, 0.0471, 0.3608, 0.4980, 0.4235, 0.4196, 0.4039,\n",
              "         0.4157, 0.4000, 0.3922, 0.4941, 0.1922, 0.1765, 0.8706, 0.0000, 0.0000,\n",
              "         0.4118, 0.8392, 0.1922, 0.5216, 0.4588, 0.4627, 0.4588, 0.4431, 0.4353,\n",
              "         0.4275, 0.4392, 0.5333, 0.6353, 0.6000, 0.5098, 0.4353, 0.4588, 0.4235,\n",
              "         0.4235, 0.4275, 0.4118, 0.4353, 0.5333, 0.1686, 0.0000, 1.0000, 0.0196,\n",
              "         0.0000, 0.7647, 0.6235, 0.1765, 0.5686, 0.4627, 0.4667, 0.4706, 0.4667,\n",
              "         0.4588, 0.4471, 0.4471, 0.4549, 0.4431, 0.4353, 0.4510, 0.4196, 0.4510,\n",
              "         0.4353, 0.4314, 0.4235, 0.4275, 0.4078, 0.5294, 0.2078, 0.0078, 0.5608,\n",
              "         0.0000, 0.0000, 1.0000, 0.4745, 0.1843, 0.5373, 0.4431, 0.4745, 0.5020,\n",
              "         0.4706, 0.4784, 0.4627, 0.4588, 0.4824, 0.4549, 0.4667, 0.4471, 0.4667,\n",
              "         0.4510, 0.4353, 0.4431, 0.4314, 0.4196, 0.4275, 0.5059, 0.1569, 0.3294,\n",
              "         0.0824, 0.0000, 0.0000, 0.8627, 0.8510, 0.4235, 0.4353, 0.4784, 0.4549,\n",
              "         0.4667, 0.4588, 0.4667, 0.4549, 0.4627, 0.4706, 0.4627, 0.4745, 0.4471,\n",
              "         0.4510, 0.4510, 0.4471, 0.4471, 0.4353, 0.4314, 0.4353, 0.4000, 0.6588,\n",
              "         0.6941, 0.0000, 0.0510, 0.7176, 0.8941, 0.9725, 0.4784, 0.4157, 0.4549,\n",
              "         0.4510, 0.4784, 0.4667, 0.4667, 0.4549, 0.4627, 0.4667, 0.4706, 0.4667,\n",
              "         0.4627, 0.4510, 0.4510, 0.4471, 0.4431, 0.4353, 0.4314, 0.4353, 0.4275,\n",
              "         0.6314, 0.0627, 0.0000, 0.2941, 0.9529, 0.9020, 0.2941, 0.3098, 0.4784,\n",
              "         0.4471, 0.4431, 0.4471, 0.4392, 0.4353, 0.4157, 0.4157, 0.4275, 0.4314,\n",
              "         0.4353, 0.4314, 0.4275, 0.4235, 0.4235, 0.4196, 0.4157, 0.4196, 0.4235,\n",
              "         0.5098, 0.2706, 0.0000, 0.0000, 0.0000, 0.2431, 0.1333, 0.0000, 0.5333,\n",
              "         0.6392, 0.5490, 0.5529, 0.5686, 0.5686, 0.5647, 0.5490, 0.5569, 0.5647,\n",
              "         0.5647, 0.5686, 0.5647, 0.5608, 0.5647, 0.5569, 0.5529, 0.5608, 0.5569,\n",
              "         0.5451, 0.6941, 0.3961, 0.0000, 0.0000, 0.0000, 0.0000, 0.0000, 0.0000,\n",
              "         0.2627, 0.3882, 0.3451, 0.3451, 0.3373, 0.3255, 0.3255, 0.3176, 0.3333,\n",
              "         0.3216, 0.3059, 0.3176, 0.3176, 0.3137, 0.3020, 0.2902, 0.2824, 0.2980,\n",
              "         0.3059, 0.2902, 0.4314, 0.1373, 0.0000, 0.0000, 0.0000, 0.0000, 0.0000,\n",
              "         0.0000, 0.0000, 0.0000, 0.0000, 0.0000, 0.0000, 0.0000, 0.0000, 0.0000,\n",
              "         0.0000, 0.0000, 0.0000, 0.0000, 0.0000, 0.0000, 0.0000, 0.0000, 0.0000,\n",
              "         0.0000, 0.0000, 0.0000, 0.0000, 0.0000, 0.0000, 0.0000, 0.0000, 0.0000,\n",
              "         0.0000, 0.0000, 0.0000, 0.0000, 0.0000, 0.0000, 0.0000, 0.0000, 0.0000,\n",
              "         0.0000, 0.0000, 0.0000, 0.0000, 0.0000, 0.0000, 0.0000, 0.0000, 0.0000,\n",
              "         0.0000, 0.0000, 0.0000, 0.0000, 0.0000, 0.0000, 0.0000, 0.0000, 0.0000,\n",
              "         0.0000, 0.0000, 0.0000, 0.0000, 0.0000, 0.0000, 0.0000, 0.0000, 0.0000,\n",
              "         0.0000, 0.0000, 0.0000, 0.0000, 0.0000, 0.0000, 0.0000, 0.0000, 0.0000,\n",
              "         0.0000, 0.0000, 0.0000, 0.0000, 0.0000, 0.0000, 0.0000, 0.0000, 0.0000,\n",
              "         0.0000, 0.0000, 0.0000, 0.0000, 0.0000, 0.0000, 0.0000, 0.0000, 0.0000,\n",
              "         0.0000, 0.0000, 0.0000, 0.0000, 0.0000, 0.0000, 0.0000, 0.0000, 0.0000,\n",
              "         0.0000, 0.0000, 0.0000, 0.0000, 0.0000, 0.0000, 0.0000, 0.0000, 0.0000,\n",
              "         0.0000]),\n",
              " tensor(8))"
            ]
          },
          "metadata": {},
          "execution_count": 15
        }
      ]
    },
    {
      "cell_type": "code",
      "source": [
        "#create test dataset object\n",
        "test_dataset = CustomDataset(X_test,y_test)"
      ],
      "metadata": {
        "id": "5X-dAB3hWbAE"
      },
      "execution_count": 16,
      "outputs": []
    },
    {
      "cell_type": "code",
      "source": [
        "train_loader = DataLoader(train_dataset, batch_size = 32, shuffle= True)\n",
        "test_loader = DataLoader(test_dataset, batch_size=32, shuffle=False)"
      ],
      "metadata": {
        "id": "cj2b9howWnM-"
      },
      "execution_count": 17,
      "outputs": []
    },
    {
      "cell_type": "code",
      "source": [
        "#define NN class\n",
        "\n",
        "class MYNN(nn.Module):\n",
        "\n",
        "  def __init__(self,num_features):\n",
        "\n",
        "    super().__init__()\n",
        "    self.model = nn.Sequential(\n",
        "        nn.Linear(num_features, 128),\n",
        "        nn.ReLU(),\n",
        "        nn.Linear(128,64),\n",
        "        nn.ReLU(),\n",
        "        nn.Linear(64,10)\n",
        "\n",
        "    )\n",
        "\n",
        "  def forward(self,x):\n",
        "    return self.model(x)"
      ],
      "metadata": {
        "id": "LEkc7PqoXAmF"
      },
      "execution_count": 25,
      "outputs": []
    },
    {
      "cell_type": "code",
      "source": [
        "#set learning rte and epochs\n",
        "epochs =100\n",
        "learning_rate = 0.1"
      ],
      "metadata": {
        "id": "sLUHU1WqxC4h"
      },
      "execution_count": 26,
      "outputs": []
    },
    {
      "cell_type": "code",
      "source": [
        "# instatitae the model\n",
        "model = MYNN(X_train.shape[1])\n",
        "\n",
        "#loss function\n",
        "criterion = nn.CrossEntropyLoss()\n",
        "\n",
        "#optimizer\n",
        "optimizer = optim.SGD(model.parameters(),lr=learning_rate)\n",
        "\n"
      ],
      "metadata": {
        "id": "prl07_GexLl4"
      },
      "execution_count": 28,
      "outputs": []
    },
    {
      "cell_type": "code",
      "source": [
        "#training loop\n",
        "\n",
        "for epoch in range(epochs):\n",
        "  total_epoch_loss =0\n",
        "\n",
        "  for batch_features, batch_labels in train_loader:\n",
        "\n",
        "    #forward pass\n",
        "    outputs = model(batch_features)\n",
        "\n",
        "    #calculate loss\n",
        "    loss = criterion(outputs,batch_labels)\n",
        "\n",
        "    #backward pass\n",
        "    optimizer.zero_grad()\n",
        "    loss.backward()\n",
        "\n",
        "    #update weights\n",
        "    optimizer.step()\n",
        "    total_epoch_loss = total_epoch_loss + loss.item()\n",
        "\n",
        "  print(f\"Epoch {epoch+1}/{epochs}, Loss: {total_epoch_loss/len(train_loader)}\")"
      ],
      "metadata": {
        "colab": {
          "base_uri": "https://localhost:8080/"
        },
        "id": "3504Xfe3yclg",
        "outputId": "7b0fdc01-4aaa-4e31-c53d-e22dce4c1daf"
      },
      "execution_count": 30,
      "outputs": [
        {
          "output_type": "stream",
          "name": "stdout",
          "text": [
            "Epoch 1/100, Loss: 1.355922334988912\n",
            "Epoch 2/100, Loss: 0.7762517126401266\n",
            "Epoch 3/100, Loss: 0.6514020035664241\n",
            "Epoch 4/100, Loss: 0.5784355580806733\n",
            "Epoch 5/100, Loss: 0.5232100874185562\n",
            "Epoch 6/100, Loss: 0.48779827813307447\n",
            "Epoch 7/100, Loss: 0.4520306710402171\n",
            "Epoch 8/100, Loss: 0.43384915053844453\n",
            "Epoch 9/100, Loss: 0.4203051451345285\n",
            "Epoch 10/100, Loss: 0.39939648429552715\n",
            "Epoch 11/100, Loss: 0.384210058649381\n",
            "Epoch 12/100, Loss: 0.36348020841677986\n",
            "Epoch 13/100, Loss: 0.33978155692418416\n",
            "Epoch 14/100, Loss: 0.32893420015772185\n",
            "Epoch 15/100, Loss: 0.32907804384827616\n",
            "Epoch 16/100, Loss: 0.30851680785417557\n",
            "Epoch 17/100, Loss: 0.29702214027444523\n",
            "Epoch 18/100, Loss: 0.2879842937489351\n",
            "Epoch 19/100, Loss: 0.2846915353337924\n",
            "Epoch 20/100, Loss: 0.2805520249903202\n",
            "Epoch 21/100, Loss: 0.2598085788389047\n",
            "Epoch 22/100, Loss: 0.2552654310067495\n",
            "Epoch 23/100, Loss: 0.24844499128560224\n",
            "Epoch 24/100, Loss: 0.24172145808736484\n",
            "Epoch 25/100, Loss: 0.23513796051343283\n",
            "Epoch 26/100, Loss: 0.2326244117071231\n",
            "Epoch 27/100, Loss: 0.21431852236390114\n",
            "Epoch 28/100, Loss: 0.21898851508895556\n",
            "Epoch 29/100, Loss: 0.20166671158125002\n",
            "Epoch 30/100, Loss: 0.20054813557614884\n",
            "Epoch 31/100, Loss: 0.219110949759682\n",
            "Epoch 32/100, Loss: 0.20143712932864824\n",
            "Epoch 33/100, Loss: 0.1884857094536225\n",
            "Epoch 34/100, Loss: 0.18028261072933674\n",
            "Epoch 35/100, Loss: 0.186277497758468\n",
            "Epoch 36/100, Loss: 0.19585738067825637\n",
            "Epoch 37/100, Loss: 0.16139253734300535\n",
            "Epoch 38/100, Loss: 0.16848616879433392\n",
            "Epoch 39/100, Loss: 0.15317178493986527\n",
            "Epoch 40/100, Loss: 0.14941489547491074\n",
            "Epoch 41/100, Loss: 0.16035977550471822\n",
            "Epoch 42/100, Loss: 0.14715986829251052\n",
            "Epoch 43/100, Loss: 0.13812003182868163\n",
            "Epoch 44/100, Loss: 0.1584262954816222\n",
            "Epoch 45/100, Loss: 0.12859650771444042\n",
            "Epoch 46/100, Loss: 0.1589219858124852\n",
            "Epoch 47/100, Loss: 0.13904729979733627\n",
            "Epoch 48/100, Loss: 0.12819926030933856\n",
            "Epoch 49/100, Loss: 0.11554679143552979\n",
            "Epoch 50/100, Loss: 0.12488261389235655\n",
            "Epoch 51/100, Loss: 0.12014820617313186\n",
            "Epoch 52/100, Loss: 0.11797165700544913\n",
            "Epoch 53/100, Loss: 0.1134931627723078\n",
            "Epoch 54/100, Loss: 0.09864566602588942\n",
            "Epoch 55/100, Loss: 0.09034102210775018\n",
            "Epoch 56/100, Loss: 0.1001069716271013\n",
            "Epoch 57/100, Loss: 0.09129501134157181\n",
            "Epoch 58/100, Loss: 0.09471164825061958\n",
            "Epoch 59/100, Loss: 0.09136236935853959\n",
            "Epoch 60/100, Loss: 0.08969788968252639\n",
            "Epoch 61/100, Loss: 0.08826688029492895\n",
            "Epoch 62/100, Loss: 0.1040962674220403\n",
            "Epoch 63/100, Loss: 0.10274192195385695\n",
            "Epoch 64/100, Loss: 0.08831658308083812\n",
            "Epoch 65/100, Loss: 0.06771253048597524\n",
            "Epoch 66/100, Loss: 0.08820207485851521\n",
            "Epoch 67/100, Loss: 0.06725730798672885\n",
            "Epoch 68/100, Loss: 0.06316237850580364\n",
            "Epoch 69/100, Loss: 0.10147051417462838\n",
            "Epoch 70/100, Loss: 0.06829638526464502\n",
            "Epoch 71/100, Loss: 0.07586250211577862\n",
            "Epoch 72/100, Loss: 0.05749081376784792\n",
            "Epoch 73/100, Loss: 0.06728221282518158\n",
            "Epoch 74/100, Loss: 0.06451298719272018\n",
            "Epoch 75/100, Loss: 0.04200802977817754\n",
            "Epoch 76/100, Loss: 0.06548918750719167\n",
            "Epoch 77/100, Loss: 0.04494701225310564\n",
            "Epoch 78/100, Loss: 0.04233595183007613\n",
            "Epoch 79/100, Loss: 0.0672968316093708\n",
            "Epoch 80/100, Loss: 0.04627987823604296\n",
            "Epoch 81/100, Loss: 0.05541180060245097\n",
            "Epoch 82/100, Loss: 0.04965254178581138\n",
            "Epoch 83/100, Loss: 0.04561630041260893\n",
            "Epoch 84/100, Loss: 0.08058935522722702\n",
            "Epoch 85/100, Loss: 0.061110779389273374\n",
            "Epoch 86/100, Loss: 0.041228041732683775\n",
            "Epoch 87/100, Loss: 0.027416710854352763\n",
            "Epoch 88/100, Loss: 0.03152832169396182\n",
            "Epoch 89/100, Loss: 0.021873708890440564\n",
            "Epoch 90/100, Loss: 0.04365981259848922\n",
            "Epoch 91/100, Loss: 0.026360221046197695\n",
            "Epoch 92/100, Loss: 0.052566678358707576\n",
            "Epoch 93/100, Loss: 0.02224109072480739\n",
            "Epoch 94/100, Loss: 0.024644193371447423\n",
            "Epoch 95/100, Loss: 0.023394688850579163\n",
            "Epoch 96/100, Loss: 0.01426980527001433\n",
            "Epoch 97/100, Loss: 0.014937867654759126\n",
            "Epoch 98/100, Loss: 0.01779430888282756\n",
            "Epoch 99/100, Loss: 0.029619412801306075\n",
            "Epoch 100/100, Loss: 0.01162066996388603\n"
          ]
        }
      ]
    },
    {
      "cell_type": "code",
      "source": [
        "#set model to eval mode\n",
        "model.eval()"
      ],
      "metadata": {
        "colab": {
          "base_uri": "https://localhost:8080/"
        },
        "id": "5GL5k-7H1QT0",
        "outputId": "8757fed0-f10a-4f0a-9c8b-6d3314db8d1c"
      },
      "execution_count": 31,
      "outputs": [
        {
          "output_type": "execute_result",
          "data": {
            "text/plain": [
              "MYNN(\n",
              "  (model): Sequential(\n",
              "    (0): Linear(in_features=784, out_features=128, bias=True)\n",
              "    (1): ReLU()\n",
              "    (2): Linear(in_features=128, out_features=64, bias=True)\n",
              "    (3): ReLU()\n",
              "    (4): Linear(in_features=64, out_features=10, bias=True)\n",
              "  )\n",
              ")"
            ]
          },
          "metadata": {},
          "execution_count": 31
        }
      ]
    },
    {
      "cell_type": "code",
      "source": [
        "#evaluation code\n",
        "total = 0\n",
        "correct = 0\n",
        "\n",
        "with torch.no_grad():\n",
        "  for batch_features, batch_labels in test_loader:\n",
        "\n",
        "    #forward pass\n",
        "    outputs = model(batch_features)\n",
        "\n",
        "    _,predicted = torch.max(outputs,1)\n",
        "\n",
        "    total = total + batch_labels.shape[0]\n",
        "\n",
        "    correct = correct + (predicted == batch_labels).sum().item()\n",
        "\n",
        "print(f\"Accuracy: {correct/total*100:.2f}%\" )\n"
      ],
      "metadata": {
        "colab": {
          "base_uri": "https://localhost:8080/"
        },
        "id": "IY0C2fij1XrH",
        "outputId": "8032bc7f-6b3a-41d7-d93c-e847ffdc59fa"
      },
      "execution_count": 32,
      "outputs": [
        {
          "output_type": "stream",
          "name": "stdout",
          "text": [
            "Accuracy: 83.75%\n"
          ]
        }
      ]
    },
    {
      "cell_type": "code",
      "source": [],
      "metadata": {
        "id": "gSDqpdDi4b0q"
      },
      "execution_count": null,
      "outputs": []
    }
  ]
}